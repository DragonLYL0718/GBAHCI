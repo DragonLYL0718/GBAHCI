{
 "cells": [
  {
   "cell_type": "markdown",
   "metadata": {},
   "source": [
    "### 打印教职近六年的出版物。"
   ]
  },
  {
   "cell_type": "code",
   "execution_count": null,
   "metadata": {},
   "outputs": [],
   "source": [
    "import requests\n",
    "from datetime import datetime\n",
    "from collections import defaultdict"
   ]
  },
  {
   "cell_type": "code",
   "execution_count": null,
   "metadata": {},
   "outputs": [],
   "source": [
    "# 查询的职员的ORCID iD列表\n",
    "orcid_ids = ['0000-0002-3968-7298', '0000-0002-7705-2031']  \n",
    "# Seungwoo Je, Pengcheng An\n",
    "current_year = datetime.now().year"
   ]
  },
  {
   "cell_type": "code",
   "execution_count": null,
   "metadata": {},
   "outputs": [],
   "source": [
    "publications_by_year = defaultdict(list)\n",
    "\n",
    "def fetch_publications(orcid_id):\n",
    "    \"\"\"Fetch publications for a given ORCID iD.\"\"\"\n",
    "    url = f'https://pub.orcid.org/v3.0/{orcid_id}/works'\n",
    "    headers = {'Accept': 'application/json'}\n",
    "    response = requests.get(url, headers=headers)\n",
    "    if response.status_code == 200:\n",
    "        return response.json()\n",
    "    else:\n",
    "        print(f'Failed to fetch data for ORCID iD {orcid_id}')\n",
    "        return None\n",
    "\n",
    "def process_publications(data):\n",
    "    \"\"\"Process and organize publications by year.\"\"\"\n",
    "    if data and 'group' in data:\n",
    "        for group in data['group']:\n",
    "            for work in group['work-summary']:\n",
    "                try:\n",
    "                    # Extract publication year\n",
    "                    year = work['publication-date']['year']['value']\n",
    "                    # Extract title (assuming the first title is the primary one)\n",
    "                    title = work['title']['title']['value']\n",
    "                    publications_by_year[year].append(title)\n",
    "                except KeyError:\n",
    "                    continue  # Skip this work if any information is missing\n",
    "\n",
    "for orcid_id in orcid_ids:\n",
    "    data = fetch_publications(orcid_id)\n",
    "    process_publications(data)\n",
    "\n",
    "# Print publications organized by year\n",
    "for year in sorted(publications_by_year.keys(), reverse=True):\n",
    "    print(f'# {year}')\n",
    "    counter = 1\n",
    "    for title in publications_by_year[year]:\n",
    "        print(f'[{counter}] {title} <br/>')\n",
    "        counter += 1"
   ]
  },
  {
   "cell_type": "code",
   "execution_count": null,
   "metadata": {},
   "outputs": [],
   "source": [
    "publications_by_year = defaultdict(list)\n",
    "\n",
    "def fetch_publications(orcid_id):\n",
    "    \"\"\"Fetch publications for a given ORCID iD.\"\"\"\n",
    "    url = f'https://pub.orcid.org/v3.0/{orcid_id}/works'\n",
    "    headers = {'Accept': 'application/json'}\n",
    "    response = requests.get(url, headers=headers)\n",
    "    if response.status_code == 200:\n",
    "        return response.json()\n",
    "    else:\n",
    "        print(f'Failed to fetch data for ORCID iD {orcid_id}')\n",
    "        return None\n",
    "\n",
    "def process_publications(data):\n",
    "    \"\"\"Process and organize publications by year.\"\"\"\n",
    "    if data and 'group' in data:\n",
    "        for group in data['group']:\n",
    "            for work in group['work-summary']:\n",
    "                try:\n",
    "                    # Extract publication year\n",
    "                    year = work['publication-date']['year']['value']\n",
    "                    # Extract title (assuming the first title is the primary one)\n",
    "                    title = work['title']['title']['value']\n",
    "                    publications_by_year[year].append(title)\n",
    "                except KeyError:\n",
    "                    continue  # Skip this work if any information is missing\n",
    "\n",
    "for orcid_id in orcid_ids:\n",
    "    data = fetch_publications(orcid_id)\n",
    "    process_publications(data)\n",
    "\n",
    "# Print publications organized by year\n",
    "for year in sorted(publications_by_year.keys(), reverse=True):\n",
    "    print(f'{year}:')\n",
    "    for title in publications_by_year[year]:\n",
    "        print(f' - {title}')"
   ]
  }
 ],
 "metadata": {
  "language_info": {
   "name": "python"
  }
 },
 "nbformat": 4,
 "nbformat_minor": 2
}
